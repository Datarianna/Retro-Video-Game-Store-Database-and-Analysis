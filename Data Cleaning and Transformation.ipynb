{
  "metadata": {
    "language_info": {
      "codemirror_mode": {
        "name": "python",
        "version": 3
      },
      "file_extension": ".py",
      "mimetype": "text/x-python",
      "name": "python",
      "nbconvert_exporter": "python",
      "pygments_lexer": "ipython3",
      "version": "3.8"
    },
    "kernelspec": {
      "name": "python",
      "display_name": "Python (Pyodide)",
      "language": "python"
    }
  },
  "nbformat_minor": 4,
  "nbformat": 4,
  "cells": [
    {
      "cell_type": "markdown",
      "source": "# 2. Data Cleaning and Transformation",
      "metadata": {}
    },
    {
      "cell_type": "markdown",
      "source": "## Importing Libraries (Pandas)",
      "metadata": {}
    },
    {
      "cell_type": "code",
      "source": "import pandas as pd",
      "metadata": {
        "trusted": true
      },
      "execution_count": 10,
      "outputs": []
    },
    {
      "cell_type": "markdown",
      "source": "## Checking Datasets",
      "metadata": {}
    },
    {
      "cell_type": "code",
      "source": "def missing(df):\n  missing = df.isna().any().any()\n  if missing:\n    print(f'Missing values detected:{missing}')\n  else:\n    print('No missing values')\n\ndef duplicate(df):\n  duplicate = df.duplicated().any().any()\n  if duplicate:\n    print('Duplicate values present')\n  else:\n    print('No duplicate values')",
      "metadata": {
        "trusted": true
      },
      "execution_count": 11,
      "outputs": []
    },
    {
      "cell_type": "markdown",
      "source": "## Products Dataset",
      "metadata": {}
    },
    {
      "cell_type": "code",
      "source": "p = pd.read_csv('Products.csv')\n\nmissing(p)\nduplicate(p)\np = p.drop_duplicates(subset=['product_id'])\n\nprint(p)",
      "metadata": {
        "trusted": true
      },
      "execution_count": 12,
      "outputs": [
        {
          "name": "stdout",
          "text": "No missing values\nNo duplicate values\n     product_id\n0             1\n1             2\n2             3\n3             4\n4             5\n..          ...\n245         246\n246         247\n247         248\n248         249\n249         250\n\n[250 rows x 1 columns]\n",
          "output_type": "stream"
        }
      ]
    },
    {
      "cell_type": "markdown",
      "source": "## Games Dataset",
      "metadata": {}
    },
    {
      "cell_type": "code",
      "source": "g = pd.read_csv('Games.csv')\n\nmissing(g)\nduplicate(g)\ng = g.drop('game_id', axis=1)\ng['price'] = g['price'].str.replace('$','').astype(float).round(2)\n\ng.loc[g['product_id'] == 3, 'console'] = 'Atari 2600'\ng.loc[g['product_id'] == 4, 'console'] = 'NES'\ng.loc[g['product_id'] == 5, 'console'] = 'Atari 2600'\ng.loc[g['product_id'] == 21, 'console'] = 'Super Nintendo'\ng.loc[g['product_id'] == 105, 'console'] = 'Super Nintendo'\ng.loc[g['product_id'] == 117, 'console'] = 'Super Nintendo'\n\nprint(g)\ng.to_csv('games_clean.csv', index=False)",
      "metadata": {
        "trusted": true
      },
      "execution_count": 23,
      "outputs": [
        {
          "name": "stdout",
          "text": "No missing values\nNo duplicate values\n",
          "output_type": "stream"
        },
        {
          "name": "stderr",
          "text": "<ipython-input-23-70d7d0ad7888>:6: FutureWarning: The default value of regex will change from True to False in a future version. In addition, single character regular expressions will *not* be treated as literal strings when regex=True.\n  g['price'] = g['price'].str.replace('$','').astype(float).round(2)\n",
          "output_type": "stream"
        },
        {
          "name": "stdout",
          "text": "     product_id                        name         console      brand  \\\n0             1           Super Mario Bros.             NES   Nintendo   \n1             2         The Legend of Zelda             NES   Nintendo   \n2             3                     Pac-Man      Atari 2600      Namco   \n3             4                 Donkey Kong             NES   Nintendo   \n4             5              Space Invaders      Atari 2600      Taito   \n..          ...                         ...             ...        ...   \n121         122            Earthworm Jim 3D     Nintendo 64  Interplay   \n122         123      Super Ghouls 'n Ghosts  Super Nintendo     Capcom   \n123         124        Super Castlevania IV  Super Nintendo     Konami   \n124         125  NBA Jam Tournament Edition  Super Nintendo     Midway   \n125         126      Star Wars: Dark Forces              PC  LucasArts   \n\n                    genre  price  quantity  \n0              Platformer   20.0         9  \n1        Action-Adventure   25.0         7  \n2                    Maze   15.0        10  \n3              Platformer   18.0         8  \n4            Shoot 'em up   12.0        12  \n..                    ...    ...       ...  \n121            Platformer   35.0         3  \n122            Platformer   35.0         3  \n123      Action-Adventure   30.0         4  \n124                Sports   25.0         6  \n125  First-person shooter   40.0         3  \n\n[126 rows x 7 columns]\n",
          "output_type": "stream"
        }
      ]
    },
    {
      "cell_type": "markdown",
      "source": "## Consoles Dataset",
      "metadata": {}
    },
    {
      "cell_type": "code",
      "source": "c = pd.read_csv ('Consoles.csv')\n\nmissing(c)\nduplicate(c)\nc = c.drop('console_id', axis=1)\nc = c.drop('color', axis=1)\nc['price'] = c['price'].str.replace('$','').astype(float).round(2)\n\nprint(c)\nc.to_csv('consoles_clean.csv', index=False)",
      "metadata": {
        "trusted": true
      },
      "execution_count": 14,
      "outputs": [
        {
          "name": "stdout",
          "text": "No missing values\nNo duplicate values\n",
          "output_type": "stream"
        },
        {
          "name": "stderr",
          "text": "<ipython-input-14-7bfea588d595>:7: FutureWarning: The default value of regex will change from True to False in a future version. In addition, single character regular expressions will *not* be treated as literal strings when regex=True.\n  c['price'] = c['price'].str.replace('$','').astype(float).round(2)\n",
          "output_type": "stream"
        },
        {
          "name": "stdout",
          "text": "    product_id                                        name             brand  \\\n0          127                                         NES          Nintendo   \n1          128  Super Nintendo Entertainment System (SNES)          Nintendo   \n2          129                                Sega Genesis              Sega   \n3          130                                    Game Boy          Nintendo   \n4          131                                 PlayStation              Sony   \n5          132                                 Nintendo 64          Nintendo   \n6          133                              Sega Dreamcast              Sega   \n7          134                              Game Boy Color          Nintendo   \n8          135                               PlayStation 2              Sony   \n9          136                                        Xbox         Microsoft   \n10         137                                    GameCube          Nintendo   \n11         138                                    Xbox 360         Microsoft   \n12         139                  PlayStation Portable (PSP)              Sony   \n13         140                                 Nintendo DS          Nintendo   \n14         141                               PlayStation 3              Sony   \n15         142                                    Xbox One         Microsoft   \n16         143                                         Wii          Nintendo   \n17         144                            PlayStation Vita              Sony   \n18         145                                Nintendo 3DS          Nintendo   \n19         146                                       Wii U          Nintendo   \n20         147                               PlayStation 4              Sony   \n21         148                                  Xbox One X         Microsoft   \n22         149                             Nintendo Switch          Nintendo   \n23         150                              Sega Game Gear              Sega   \n24         151                                  Atari 2600             Atari   \n25         152                                 Neo Geo AES               SNK   \n26         153                               TurboGrafx-16               NEC   \n27         154                                 Sega Saturn              Sega   \n28         155                            Game Boy Advance          Nintendo   \n29         156                               Intellivision            Mattel   \n30         157                                ColecoVision            Coleco   \n31         158                                  Atari 5200             Atari   \n32         159                                Commodore 64         Commodore   \n33         160                                   Amiga 500         Commodore   \n34         161                          Sega Master System              Sega   \n35         162                                Atari Jaguar             Atari   \n36         163                 3DO Interactive Multiplayer               3DO   \n37         164                                Philips CD-i           Philips   \n38         165                             Game Boy Pocket          Nintendo   \n39         166                            Nintendo DS Lite          Nintendo   \n40         167                                      PSP Go              Sony   \n41         168                        Neo Geo Pocket Color               SNK   \n42         169                                    Game.com             Tiger   \n43         170                                 Virtual Boy          Nintendo   \n44         171                            WonderSwan Color            Bandai   \n45         172                                Nokia N-Gage             Nokia   \n46         173                                    Gizmondo  Tiger Telematics   \n47         174                              Tapwave Zodiac           Tapwave   \n\n    price  quantity  \n0   100.0         5  \n1   120.0         4  \n2    90.0         5  \n3    80.0         5  \n4   100.0         4  \n5   150.0         3  \n6   130.0         4  \n7    90.0         5  \n8   120.0         4  \n9   100.0         5  \n10  140.0         3  \n11  150.0         3  \n12  100.0         4  \n13  120.0         4  \n14  160.0         3  \n15  200.0         3  \n16  150.0         4  \n17  120.0         4  \n18  160.0         3  \n19  200.0         2  \n20  250.0         2  \n21  350.0         1  \n22  300.0         2  \n23   80.0         5  \n24  200.0         2  \n25  800.0         1  \n26  300.0         2  \n27  250.0         2  \n28   90.0         5  \n29  150.0         3  \n30  200.0         2  \n31  250.0         2  \n32  300.0         2  \n33  400.0         1  \n34  180.0         3  \n35  300.0         2  \n36  500.0         1  \n37  400.0         1  \n38   70.0         5  \n39  120.0         4  \n40  100.0         4  \n41  100.0         4  \n42  150.0         3  \n43  300.0         2  \n44  200.0         2  \n45   80.0         5  \n46  200.0         2  \n47  300.0         2  \n",
          "output_type": "stream"
        }
      ]
    },
    {
      "cell_type": "markdown",
      "source": "## Accessories Dataset",
      "metadata": {}
    },
    {
      "cell_type": "code",
      "source": "a = pd.read_csv('Accessories.csv')\n\nmissing(a)\nduplicate(a)\na = a.drop('acc_id', axis=1)\na['price'] = a['price'].str.replace('$','').astype(float).round(2)\n\nprint(a)\na.to_csv('accessories_clean.csv', index=False)",
      "metadata": {
        "trusted": true
      },
      "execution_count": 15,
      "outputs": [
        {
          "name": "stdout",
          "text": "No missing values\nNo duplicate values\n",
          "output_type": "stream"
        },
        {
          "name": "stderr",
          "text": "<ipython-input-15-0a47f51d6b75>:6: FutureWarning: The default value of regex will change from True to False in a future version. In addition, single character regular expressions will *not* be treated as literal strings when regex=True.\n  a['price'] = a['price'].str.replace('$','').astype(float).round(2)\n",
          "output_type": "stream"
        },
        {
          "name": "stdout",
          "text": "    product_id                                          name  \\\n0          175          Xbox 360 Wireless Controller (Black)   \n1          176   PlayStation 4 DualShock 4 Controller (Blue)   \n2          177         Nintendo Switch Pro Controller (Gray)   \n3          178                  Xbox One Play and Charge Kit   \n4          179               PlayStation 2 Memory Card (8MB)   \n..         ...                                           ...   \n71         246                       Sega Genesis Game Genie   \n72         247                 Game Boy Printer Paper Refill   \n73         248                        PlayStation 2 Multitap   \n74         249              Nintendo Switch Labo Variety Kit   \n75         250  Xbox Wireless Controller Adapter for Windows   \n\n                               console  price  quantity  \n0                             Xbox 360   40.0        10  \n1                        PlayStation 4   50.0         9  \n2                      Nintendo Switch   60.0         8  \n3                             Xbox One   25.0        10  \n4                        PlayStation 2   10.0        10  \n..                                 ...    ...       ...  \n71                        Sega Genesis   30.0         8  \n72                            Game Boy    5.0        10  \n73                       PlayStation 2   30.0         7  \n74                     Nintendo Switch   70.0         5  \n75  Xbox Series X/S, Xbox One, Windows   25.0         8  \n\n[76 rows x 5 columns]\n",
          "output_type": "stream"
        }
      ]
    },
    {
      "cell_type": "markdown",
      "source": "## Adding Category Column in Products Dataset\nI had to load all of the products, games, consoles, and accessories datasets to do this portion.",
      "metadata": {}
    },
    {
      "cell_type": "code",
      "source": "p['category'] = ''\np.loc[p['product_id'].isin(g['product_id']), 'category'] = 'Game'\np.loc[p['product_id'].isin(c['product_id']), 'category'] = 'Console'\np.loc[p['product_id'].isin(a['product_id']), 'category'] = 'Accessories'\np.drop(p.index[251:], inplace=True)\n\nmissing(p)\nduplicate(p)\nprint(p)\np.to_csv('products_clean.csv', index=False)",
      "metadata": {
        "trusted": true
      },
      "execution_count": 19,
      "outputs": [
        {
          "name": "stdout",
          "text": "No missing values\nNo duplicate values\n     product_id     category\n0             1         Game\n1             2         Game\n2             3         Game\n3             4         Game\n4             5         Game\n..          ...          ...\n245         246  Accessories\n246         247  Accessories\n247         248  Accessories\n248         249  Accessories\n249         250  Accessories\n\n[250 rows x 2 columns]\n",
          "output_type": "stream"
        }
      ]
    },
    {
      "cell_type": "markdown",
      "source": "## Customers Dataset",
      "metadata": {}
    },
    {
      "cell_type": "code",
      "source": "customers = pd.read_csv('Customers.csv')\n\nmissing(customers)\nduplicate(customers)\ncustomers['full_name'] = customers['first_name'].str.cat(customers['last_name'], sep=' ')\ncustomers = customers.drop('first_name', axis=1)\ncustomers = customers.drop('last_name', axis=1)\ncustomers = customers.drop('phone_number', axis=1)\ncustomers = customers.drop('email', axis=1)\n\nprint(customers)\ncustomers.to_csv('customers_clean.csv', index=False)",
      "metadata": {
        "trusted": true
      },
      "execution_count": 17,
      "outputs": [
        {
          "name": "stdout",
          "text": "No missing values\nNo duplicate values\n     customer_id           full_name\n0              1       Zelenia Parks\n1              2        Raphael Kirk\n2              3      Kyla Contreras\n3              4  Jacqueline Dillard\n4              5      Noelle Farrell\n..           ...                 ...\n859          860        Darius Byers\n860          861       Armand Potter\n861          862         Dexter Peck\n862          863       Travis Baxter\n863          864           Lael Diaz\n\n[864 rows x 2 columns]\n",
          "output_type": "stream"
        }
      ]
    },
    {
      "cell_type": "markdown",
      "source": "## Transactions Dataset",
      "metadata": {}
    },
    {
      "cell_type": "code",
      "source": "t = pd.read_csv('Transactions.csv')\n\nmissing(t)\nduplicate(t)\nt['date'] = pd.to_datetime(t['date'])\n\nprint(t)\nt.to_csv('transactions_clean.csv', index=False)",
      "metadata": {
        "trusted": true
      },
      "execution_count": 18,
      "outputs": [
        {
          "name": "stdout",
          "text": "No missing values\nNo duplicate values\n      trans_id  customer_id  product_id       date  payment_method\n0            1          850         136 2023-06-14            cash\n1            2          652         184 2023-03-30  mobile payment\n2            3           20         196 2023-03-01            cash\n3            4          443          58 2023-06-17  mobile payment\n4            5          759         210 2023-01-30          credit\n...        ...          ...         ...        ...             ...\n1495      1496          471          89 2023-02-12            cash\n1496      1497          213         232 2023-06-25            cash\n1497      1498          101          47 2023-06-03           debit\n1498      1499          691          75 2023-06-17            cash\n1499      1500          659         145 2023-04-14  mobile payment\n\n[1500 rows x 5 columns]\n",
          "output_type": "stream"
        }
      ]
    }
  ]
}
